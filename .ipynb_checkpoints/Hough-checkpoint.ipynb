{
 "cells": [
  {
   "cell_type": "code",
   "execution_count": null,
   "metadata": {
    "collapsed": false
   },
   "outputs": [],
   "source": [
    "import numpy as np\n",
    "import matplotlib.pyplot as plt\n",
    "%matplotlib inline\n",
    "from tqdm import tqdm\n",
    "import skimage.transform as trs\n",
    "import skimage.color as color\n",
    "import skimage.io as io\n",
    "from skimage.transform import hough_line,hough_line_peaks, probabilistic_hough_line\n",
    "from sklearn.decomposition import PCA \n",
    "from sklearn.manifold import TSNE \n",
    "\n",
    "from skimage.feature import canny\n"
   ]
  },
  {
   "cell_type": "code",
   "execution_count": null,
   "metadata": {
    "collapsed": false
   },
   "outputs": [],
   "source": [
    "image1 = io.imread_collection('../ratio2/*.jpg' )\n",
    "image2 = io.imread_collection('../annunciation\\*.jpg' )\n",
    "images = np.concatenate((image1,image2),axis=0)"
   ]
  },
  {
   "cell_type": "code",
   "execution_count": null,
   "metadata": {
    "collapsed": false
   },
   "outputs": [],
   "source": [
    "image =images[232]\n",
    "\n",
    "h, theta, d = hough_line(color.rgb2gray(image))\n",
    "    "
   ]
  },
  {
   "cell_type": "code",
   "execution_count": null,
   "metadata": {
    "collapsed": false
   },
   "outputs": [],
   "source": [
    "fig, axes = plt.subplots(1, 3, figsize=(15, 6))\n",
    "ax = axes.ravel()\n",
    "\n",
    "ax[0].imshow(image, cmap='gray')\n",
    "ax[1].imshow(image, cmap='gray')\n",
    "\n",
    "for _, angle, dist in zip(*hough_line_peaks(h, theta, d)):\n",
    "    y0 = (dist - 0 * np.cos(angle)) / np.sin(angle)\n",
    "    y1 = (dist - image.shape[1] * np.cos(angle)) / np.sin(angle)\n",
    "    ax[1].plot((0, image.shape[1]), (y0, y1), '-r')\n",
    "ax[1].set_xlim((0, image.shape[1]))\n",
    "ax[1].set_ylim((image.shape[0], 0))\n",
    "ax[2].imshow(np.log(1 + h),\n",
    "             extent=[np.rad2deg(theta[-1]), np.rad2deg(theta[0]), d[-1], d[0]],\n",
    "             cmap=\"gray\", aspect=1/1.5)\n",
    "\n",
    "plt.tight_layout()\n",
    "plt.show()"
   ]
  },
  {
   "cell_type": "markdown",
   "metadata": {
    "collapsed": false
   },
   "source": [
    "# Test for a single image"
   ]
  },
  {
   "cell_type": "code",
   "execution_count": null,
   "metadata": {
    "collapsed": false,
    "scrolled": true
   },
   "outputs": [],
   "source": [
    "image = images[232]\n",
    "cann = canny(color.rgb2gray(trs.resize(image,(512,512))))#,low_threshold=0.1,high_threshold=0.2)\n",
    "io.imshow(cann)"
   ]
  },
  {
   "cell_type": "code",
   "execution_count": null,
   "metadata": {
    "collapsed": true
   },
   "outputs": [],
   "source": [
    "liste  = probabilistic_hough_line(cann,threshold=10,line_length=100,line_gap=5)"
   ]
  },
  {
   "cell_type": "code",
   "execution_count": null,
   "metadata": {
    "collapsed": false,
    "scrolled": false
   },
   "outputs": [],
   "source": [
    "fig, axes = plt.subplots(1, 2, figsize=(15, 6))\n",
    "ax = axes.ravel()\n",
    "\n",
    "ax[0].imshow(image, cmap='gray')\n",
    "ax[1].imshow(trs.resize(image,(512,512)), cmap='gray')\n",
    "for elem in liste:\n",
    "    ax[1].plot((elem[0][0],elem[1][0]), (elem[0][1],elem[1][1]), '-r')\n",
    "\n",
    "plt.show()"
   ]
  },
  {
   "cell_type": "markdown",
   "metadata": {},
   "source": [
    "# Testing a new approach"
   ]
  },
  {
   "cell_type": "code",
   "execution_count": null,
   "metadata": {
    "collapsed": false
   },
   "outputs": [],
   "source": [
    "image = images[232]\n",
    "cann = canny(color.rgb2gray(trs.resize(image,(512,512))),low_threshold=0.3,high_threshold=0.7)\n",
    "io.imshow(cann)"
   ]
  },
  {
   "cell_type": "code",
   "execution_count": null,
   "metadata": {
    "collapsed": true
   },
   "outputs": [],
   "source": [
    "h, theta, d = hough_line(cann)"
   ]
  },
  {
   "cell_type": "code",
   "execution_count": null,
   "metadata": {
    "collapsed": false,
    "scrolled": false
   },
   "outputs": [],
   "source": [
    "fig, axes = plt.subplots(1, 2, figsize=(15, 6))\n",
    "ax = axes.ravel()\n",
    "\n",
    "ax[0].imshow(image, cmap='gray')\n",
    "\n",
    "for _, angle, dist in zip(*hough_line_peaks(h, theta, d)):\n",
    "    y0 = (dist - 0 * np.cos(angle)) / np.sin(angle)\n",
    "    y1 = (dist - image.shape[1] * np.cos(angle)) / np.sin(angle)\n",
    "    ax[0].plot((0, image.shape[1]), (y0, y1), '-r')\n",
    "ax[0].set_xlim((0, image.shape[1]))\n",
    "ax[0].set_ylim((image.shape[0], 0))\n",
    "ax[1].imshow(np.log(1 + h),\n",
    "             extent=[np.rad2deg(theta[-1]), np.rad2deg(theta[0]), d[-1], d[0]],\n",
    "             cmap=\"gray\", aspect=1/1.5)\n"
   ]
  },
  {
   "cell_type": "code",
   "execution_count": null,
   "metadata": {
    "collapsed": false,
    "scrolled": true
   },
   "outputs": [],
   "source": [
    "houghImg = []\n",
    "for img in tqdm(images):\n",
    "    cann = canny(color.rgb2gray(trs.resize(img,(512,512))),low_threshold=0.3,high_threshold=0.7)\n",
    "    h, theta, d = hough_line(cann)\n",
    "    fig, axes = plt.subplots(1, 1, figsize=(3, 10))\n",
    "    plt.imshow(np.log(1 + h),\n",
    "             extent=[np.rad2deg(theta[-1]), np.rad2deg(theta[0]), d[-1], d[0]],\n",
    "             cmap=\"gray\", aspect=1/1.5)\n",
    "    plt.axis('off')\n",
    "    plt.tight_layout(pad=0)\n",
    "    fig.canvas.draw()\n",
    "    data = np.fromstring(fig.canvas.tostring_rgb(), dtype=np.uint8)\n",
    "    data = data.reshape(fig.canvas.get_width_height()[::-1] + (3,))\n",
    "    houghImg.append(data)\n",
    "    plt.close(fig)\n"
   ]
  },
  {
   "cell_type": "code",
   "execution_count": null,
   "metadata": {
    "collapsed": false,
    "scrolled": true
   },
   "outputs": [],
   "source": [
    "io.imshow(houghImg[89])"
   ]
  },
  {
   "cell_type": "markdown",
   "metadata": {
    "collapsed": true
   },
   "source": [
    "# Creating the hough images for the whole collection"
   ]
  },
  {
   "cell_type": "code",
   "execution_count": null,
   "metadata": {
    "collapsed": false
   },
   "outputs": [],
   "source": [
    "houghImg = []\n",
    "for img in tqdm(images):\n",
    "    cann = canny(color.rgb2gray(trs.resize(img,(512,512))))#,low_threshold=0.1,high_threshold=1)\n",
    "    hough = probabilistic_hough_line(cann,threshold=10,line_length=70,line_gap=5)\n",
    "    houghImg.append(hough)\n",
    "        "
   ]
  },
  {
   "cell_type": "code",
   "execution_count": null,
   "metadata": {
    "collapsed": false
   },
   "outputs": [],
   "source": [
    "img = []\n",
    "for liste in tqdm(houghImg):\n",
    "    fig = plt.figure()\n",
    "    fig.add_subplot(111)\n",
    "    for elem in liste: \n",
    "        plt.plot((elem[0][0],elem[1][0]), (elem[0][1],elem[1][1]), '-r')\n",
    "    plt.axis('off')\n",
    "    fig.tight_layout(pad=0)\n",
    "    fig.canvas.draw()\n",
    "    data = np.fromstring(fig.canvas.tostring_rgb(), dtype=np.uint8)\n",
    "    data = data.reshape(fig.canvas.get_width_height()[::-1] + (3,))\n",
    "    img.append(data)\n",
    "    plt.close(fig)"
   ]
  },
  {
   "cell_type": "code",
   "execution_count": null,
   "metadata": {
    "collapsed": false
   },
   "outputs": [],
   "source": [
    "plt.imshow(img[232])\n"
   ]
  },
  {
   "cell_type": "code",
   "execution_count": null,
   "metadata": {
    "collapsed": true
   },
   "outputs": [],
   "source": [
    "flattened = []\n",
    "for elem in houghImg :\n",
    "    flattened.append(elem.flatten())"
   ]
  },
  {
   "cell_type": "code",
   "execution_count": null,
   "metadata": {
    "collapsed": false
   },
   "outputs": [],
   "source": [
    "squaredImg = []\n",
    "for image in tqdm(images):\n",
    "    squaredImg.append(trs.resize(image, (256,256)))"
   ]
  },
  {
   "cell_type": "code",
   "execution_count": null,
   "metadata": {
    "collapsed": false
   },
   "outputs": [],
   "source": [
    "hough_pca = PCA(n_components=50).fit_transform(flattened)\n",
    "hough_embedded = TSNE(n_components=2).fit_transform(hough_pca)"
   ]
  },
  {
   "cell_type": "code",
   "execution_count": null,
   "metadata": {
    "collapsed": false
   },
   "outputs": [],
   "source": [
    "from matplotlib.offsetbox import AnnotationBbox,OffsetImage\n",
    "fig = plt.figure(figsize=(170, 170))\n",
    "plt.scatter(hough_embedded[:, 0], hough_embedded[:, 1], marker=None)\n",
    "\n",
    "ax = plt.subplot(111)\n",
    "for i in range(len(squaredImg)) :\n",
    "    im = OffsetImage(squaredImg[i], cmap = 'gray', zoom=0.70)\n",
    "    im.image.axis =ax\n",
    "    ab =AnnotationBbox(im,[hough_embedded[i,0],hough_embedded[i,1]],frameon=False) \n",
    "    ax.add_artist(ab)\n",
    "\n",
    "plt.show()\n"
   ]
  },
  {
   "cell_type": "code",
   "execution_count": null,
   "metadata": {
    "collapsed": true
   },
   "outputs": [],
   "source": [
    "fig.savefig(\"../hough.jpg\")"
   ]
  },
  {
   "cell_type": "code",
   "execution_count": null,
   "metadata": {
    "collapsed": true
   },
   "outputs": [],
   "source": []
  }
 ],
 "metadata": {
  "kernelspec": {
   "display_name": "Python 3",
   "language": "python",
   "name": "python3"
  },
  "language_info": {
   "codemirror_mode": {
    "name": "ipython",
    "version": 3
   },
   "file_extension": ".py",
   "mimetype": "text/x-python",
   "name": "python",
   "nbconvert_exporter": "python",
   "pygments_lexer": "ipython3",
   "version": "3.6.0"
  }
 },
 "nbformat": 4,
 "nbformat_minor": 2
}
