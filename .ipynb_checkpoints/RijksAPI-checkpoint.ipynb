{
 "cells": [
  {
   "cell_type": "code",
   "execution_count": 68,
   "metadata": {
    "collapsed": false
   },
   "outputs": [],
   "source": [
    "import numpy as np\n",
    "import matplotlib.pyplot as plt\n",
    "%matplotlib inline\n",
    "from tqdm import tqdm\n",
    "import json\n",
    "import csv\n",
    "import pandas as pd\n",
    "import urllib.request as urlReq\n",
    "import wget\n"
   ]
  },
  {
   "cell_type": "code",
   "execution_count": 147,
   "metadata": {
    "collapsed": false
   },
   "outputs": [],
   "source": [
    "def searchSome(query,number=50):\n",
    "    if(number<=100):\n",
    "        url = urlReq.urlopen(\"https://www.rijksmuseum.nl/api/en/collection/?ps=\"+str(number)+\"&q=Q&key=t2KR0CWi&format=json\".replace(\"Q\", query))\n",
    "    else : \n",
    "        \n",
    "    jsonFile = json.loads(url.read().decode());\n",
    "    return jsonFile\n",
    "   \n",
    "def jsonCSV(file):\n",
    "    df = pd.DataFrame.from_dict(file['artObjects'])\n",
    "    return df\n",
    "def downloadImages(csv, directory):\n",
    "    for i in range(csv.shape[0]):\n",
    "        if(csv['webImage'][i] is not None):\n",
    "            wget.download(csv['webImage'][i]['url'],out=directory+\"/image\"+str(i)+\".jpg\")\n",
    "    "
   ]
  },
  {
   "cell_type": "code",
   "execution_count": 148,
   "metadata": {
    "collapsed": false,
    "scrolled": false
   },
   "outputs": [],
   "source": [
    "mCsv= jsonCSV(searchSome('rembrandt',100))\n"
   ]
  },
  {
   "cell_type": "code",
   "execution_count": 149,
   "metadata": {
    "collapsed": false
   },
   "outputs": [
    {
     "name": "stdout",
     "output_type": "stream",
     "text": [
      "100% [........................................................] 108629 / 108629"
     ]
    }
   ],
   "source": [
    "downloadImages(mCsv,\"../rembrandt\")\n"
   ]
  },
  {
   "cell_type": "code",
   "execution_count": null,
   "metadata": {
    "collapsed": false
   },
   "outputs": [],
   "source": []
  },
  {
   "cell_type": "code",
   "execution_count": null,
   "metadata": {
    "collapsed": false
   },
   "outputs": [],
   "source": []
  },
  {
   "cell_type": "code",
   "execution_count": null,
   "metadata": {
    "collapsed": true
   },
   "outputs": [],
   "source": []
  }
 ],
 "metadata": {
  "kernelspec": {
   "display_name": "Python 3",
   "language": "python",
   "name": "python3"
  },
  "language_info": {
   "codemirror_mode": {
    "name": "ipython",
    "version": 3
   },
   "file_extension": ".py",
   "mimetype": "text/x-python",
   "name": "python",
   "nbconvert_exporter": "python",
   "pygments_lexer": "ipython3",
   "version": "3.6.0"
  }
 },
 "nbformat": 4,
 "nbformat_minor": 2
}
