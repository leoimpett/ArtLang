{
 "cells": [
  {
   "cell_type": "code",
   "execution_count": null,
   "metadata": {
    "collapsed": false
   },
   "outputs": [],
   "source": [
    "times = {'100':8,'300':10,'500':12,'1000':22,'1700':30,'2300':39,'2700':46}"
   ]
  },
  {
   "cell_type": "code",
   "execution_count": null,
   "metadata": {
    "collapsed": false
   },
   "outputs": [],
   "source": [
    "import artlang.imagedata as imd\n",
    "import matplotlib.pyplot as plt\n",
    "%matplotlib inline\n",
    "import artlang.tsne_hog as ht\n",
    "import time"
   ]
  },
  {
   "cell_type": "code",
   "execution_count": null,
   "metadata": {
    "collapsed": false
   },
   "outputs": [],
   "source": [
    "start = time.time()\n",
    "s100 = imd.ImageDataCollection.from_folder()\n",
    "end = time.time()\n",
    "print(end -start )"
   ]
  },
  {
   "cell_type": "code",
   "execution_count": null,
   "metadata": {
    "collapsed": false
   },
   "outputs": [],
   "source": [
    "start = time.time()\n",
    "s300 = imd.ImageDataCollection.from_folder()\n",
    "end = time.time()\n",
    "print(end -start )"
   ]
  },
  {
   "cell_type": "code",
   "execution_count": null,
   "metadata": {
    "collapsed": false
   },
   "outputs": [],
   "source": [
    "start = time.time()\n",
    "s500 = imd.ImageDataCollection.from_folder()\n",
    "end = time.time()\n",
    "print(end -start )"
   ]
  },
  {
   "cell_type": "code",
   "execution_count": null,
   "metadata": {
    "collapsed": false
   },
   "outputs": [],
   "source": [
    "start = time.time()\n",
    "s1000 = imd.ImageDataCollection.from_folder()\n",
    "end = time.time()\n",
    "print(end -start )"
   ]
  },
  {
   "cell_type": "code",
   "execution_count": null,
   "metadata": {
    "collapsed": false
   },
   "outputs": [],
   "source": [
    "start = time.time()\n",
    "s1700 = imd.ImageDataCollection.from_folder()\n",
    "end = time.time()\n",
    "print(end -start )"
   ]
  },
  {
   "cell_type": "code",
   "execution_count": null,
   "metadata": {
    "collapsed": false
   },
   "outputs": [],
   "source": [
    "start = time.time()\n",
    "s2300 = imd.ImageDataCollection.from_folder()\n",
    "end = time.time()\n",
    "print(end -start )"
   ]
  },
  {
   "cell_type": "code",
   "execution_count": null,
   "metadata": {
    "collapsed": false
   },
   "outputs": [],
   "source": [
    "start = time.time()\n",
    "s2700 = imd.ImageDataCollection.from_folder()\n",
    "end = time.time()\n",
    "print(end -start )"
   ]
  },
  {
   "cell_type": "code",
   "execution_count": null,
   "metadata": {
    "collapsed": false
   },
   "outputs": [],
   "source": [
    "numImg = []\n",
    "for elem in list(times.keys()):\n",
    "     numImg.append(int(elem))"
   ]
  },
  {
   "cell_type": "code",
   "execution_count": null,
   "metadata": {
    "collapsed": false
   },
   "outputs": [],
   "source": [
    "numImg = []\n",
    "for elem in list(times.keys()):\n",
    "     numImg.append(int(elem))\n",
    "plt.figure(figsize = (10,10))\n",
    "plt.plot(numImg,list(times.values()))\n",
    "plt.xlabel('Number of images',fontsize = 25)\n",
    "plt.ylabel('Time (seconds)',fontsize = 25)\n",
    "plt.tick_params(labelsize = 20)\n",
    "\n",
    "plt.savefig(\"dlimages.jpg\")"
   ]
  },
  {
   "cell_type": "code",
   "execution_count": null,
   "metadata": {
    "collapsed": false
   },
   "outputs": [],
   "source": []
  },
  {
   "cell_type": "code",
   "execution_count": null,
   "metadata": {
    "collapsed": false
   },
   "outputs": [],
   "source": [
    "start = time.time()\n",
    "\n",
    "tnse100 = ht.hog_tsne(s100)\n",
    "end = time.time()\n",
    "print(end -start )"
   ]
  },
  {
   "cell_type": "code",
   "execution_count": null,
   "metadata": {
    "collapsed": false
   },
   "outputs": [],
   "source": [
    "\n",
    "start = time.time()\n",
    "tnse300 = ht.hog_tsne(s300)\n",
    "end = time.time()\n",
    "print(end -start )"
   ]
  },
  {
   "cell_type": "code",
   "execution_count": null,
   "metadata": {
    "collapsed": false
   },
   "outputs": [],
   "source": [
    "\n",
    "start = time.time()\n",
    "tnse500 = ht.hog_tsne(s500)\n",
    "end = time.time()\n",
    "print(end -start )"
   ]
  },
  {
   "cell_type": "code",
   "execution_count": null,
   "metadata": {
    "collapsed": false
   },
   "outputs": [],
   "source": [
    "\n",
    "start = time.time()\n",
    "tnse1000 = ht.hog_tsne(s1000)\n",
    "end = time.time()\n",
    "print(end -start )"
   ]
  },
  {
   "cell_type": "code",
   "execution_count": null,
   "metadata": {
    "collapsed": false
   },
   "outputs": [],
   "source": [
    "start = time.time()\n",
    "tnse1700 = ht.hog_tsne(s1700)\n",
    "end = time.time()\n",
    "print(end -start )"
   ]
  },
  {
   "cell_type": "code",
   "execution_count": null,
   "metadata": {
    "collapsed": false
   },
   "outputs": [],
   "source": [
    "start = time.time()\n",
    "tnse2300 = ht.hog_tsne(s2300)\n",
    "end = time.time()\n",
    "print(end -start )"
   ]
  },
  {
   "cell_type": "code",
   "execution_count": null,
   "metadata": {
    "collapsed": false
   },
   "outputs": [],
   "source": [
    "start = time.time()\n",
    "tnse2700 = ht.hog_tsne(s2700)\n",
    "end = time.time()\n",
    "print(end -start )"
   ]
  },
  {
   "cell_type": "code",
   "execution_count": null,
   "metadata": {
    "collapsed": true
   },
   "outputs": [],
   "source": [
    "tsnetime = {'100':8,'300':25,'500':40,'1000':75,'1700':123,'2300':216,'2700':224}"
   ]
  },
  {
   "cell_type": "code",
   "execution_count": null,
   "metadata": {
    "collapsed": false
   },
   "outputs": [],
   "source": [
    "numImg = []\n",
    "for elem in list(tsnetime.keys()):\n",
    "     numImg.append(int(elem))\n",
    "plt.figure(figsize = (10,10))\n",
    "plt.plot(numImg,list(tsnetime.values()))\n",
    "plt.xlabel('Number of images',fontsize = 25)\n",
    "plt.ylabel('Time (seconds)',fontsize = 25)\n",
    "plt.tick_params(labelsize = 20)\n",
    "plt.savefig(\"tsneTime.jpg\")"
   ]
  },
  {
   "cell_type": "code",
   "execution_count": null,
   "metadata": {
    "collapsed": false
   },
   "outputs": [],
   "source": [
    "import artlang.vizualize as viz"
   ]
  },
  {
   "cell_type": "code",
   "execution_count": null,
   "metadata": {
    "collapsed": false
   },
   "outputs": [],
   "source": [
    "start = time.time()\n",
    "viz.plot_xy_and_save(images=s100.extract_lowRes(),xy=tnse100,show_notebook=True)\n",
    "end = time.time()\n",
    "print(end -start )"
   ]
  },
  {
   "cell_type": "code",
   "execution_count": null,
   "metadata": {
    "collapsed": false
   },
   "outputs": [],
   "source": [
    "start = time.time()\n",
    "viz.plot_xy_and_save(images=s300.extract_lowRes(),xy=tnse300,show_notebook=True)\n",
    "end = time.time()\n",
    "print(end -start )"
   ]
  },
  {
   "cell_type": "code",
   "execution_count": null,
   "metadata": {
    "collapsed": false
   },
   "outputs": [],
   "source": [
    "start = time.time()\n",
    "viz.plot_xy_and_save(images=s500.extract_lowRes(),xy=tnse500,show_notebook=True)\n",
    "end = time.time()\n",
    "print(end -start )"
   ]
  },
  {
   "cell_type": "code",
   "execution_count": null,
   "metadata": {
    "collapsed": false
   },
   "outputs": [],
   "source": [
    "start = time.time()\n",
    "viz.plot_xy_and_save(images=s1000.extract_lowRes(),xy=tnse1000,show_notebook=True)\n",
    "end = time.time()\n",
    "print(end -start )"
   ]
  },
  {
   "cell_type": "code",
   "execution_count": null,
   "metadata": {
    "collapsed": false
   },
   "outputs": [],
   "source": [
    "start = time.time()\n",
    "viz.plot_xy_and_save(images=s1700.extract_lowRes(),xy=tnse1700,show_notebook=True)\n",
    "end = time.time()\n",
    "print(end -start )"
   ]
  },
  {
   "cell_type": "code",
   "execution_count": null,
   "metadata": {
    "collapsed": false
   },
   "outputs": [],
   "source": [
    "start = time.time()\n",
    "viz.plot_xy_and_save(images=s2300.extract_lowRes(),xy=tnse2300,show_notebook=True)\n",
    "end = time.time()\n",
    "print(end -start )"
   ]
  },
  {
   "cell_type": "code",
   "execution_count": null,
   "metadata": {
    "collapsed": true
   },
   "outputs": [],
   "source": [
    "plotTime = {'100':14,'300':21,'500':23,'1000':28,'1700':39,'2300':46,'2700':55}"
   ]
  },
  {
   "cell_type": "code",
   "execution_count": null,
   "metadata": {
    "collapsed": false
   },
   "outputs": [],
   "source": [
    "numImg = []\n",
    "for elem in list(plotTime.keys()):\n",
    "     numImg.append(int(elem))\n",
    "plt.figure(figsize = (10,10))\n",
    "plt.plot(numImg,list(plotTime.values()))\n",
    "plt.xlabel('Number of images',fontsize = 25)\n",
    "plt.ylabel('Time (seconds)',fontsize =25) \n",
    "plt.tick_params(labelsize = 20)\n",
    "plt.savefig(\"plotTime.jpg\")"
   ]
  },
  {
   "cell_type": "code",
   "execution_count": null,
   "metadata": {
    "collapsed": false
   },
   "outputs": [],
   "source": [
    "xy = hog_tsne(collection)"
   ]
  },
  {
   "cell_type": "code",
   "execution_count": null,
   "metadata": {
    "collapsed": false
   },
   "outputs": [],
   "source": [
    "plot_xy_and_save(xy,collection.extract_lowRes(),show_notebook=False)"
   ]
  },
  {
   "cell_type": "code",
   "execution_count": null,
   "metadata": {
    "collapsed": false
   },
   "outputs": [],
   "source": []
  },
  {
   "cell_type": "code",
   "execution_count": null,
   "metadata": {
    "collapsed": false,
    "scrolled": true
   },
   "outputs": [],
   "source": [
    "final = auto_cropping(collection)"
   ]
  },
  {
   "cell_type": "code",
   "execution_count": null,
   "metadata": {
    "collapsed": false
   },
   "outputs": [],
   "source": [
    "plt.imshow(final[2])\n",
    "plt.show()"
   ]
  },
  {
   "cell_type": "code",
   "execution_count": null,
   "metadata": {
    "collapsed": true
   },
   "outputs": [],
   "source": []
  },
  {
   "cell_type": "code",
   "execution_count": null,
   "metadata": {
    "collapsed": true
   },
   "outputs": [],
   "source": []
  }
 ],
 "metadata": {
  "kernelspec": {
   "display_name": "Python 3",
   "language": "python",
   "name": "python3"
  },
  "language_info": {
   "codemirror_mode": {
    "name": "ipython",
    "version": 3
   },
   "file_extension": ".py",
   "mimetype": "text/x-python",
   "name": "python",
   "nbconvert_exporter": "python",
   "pygments_lexer": "ipython3",
   "version": "3.6.0"
  }
 },
 "nbformat": 4,
 "nbformat_minor": 2
}
