{
 "cells": [
  {
   "cell_type": "code",
   "execution_count": 1,
   "metadata": {
    "collapsed": false
   },
   "outputs": [],
   "source": [
    "import numpy as np\n",
    "import matplotlib.pyplot as plt\n",
    "%matplotlib inline\n",
    "from tqdm import tqdm\n",
    "import json\n",
    "import csv\n",
    "import pandas as pd\n",
    "import urllib.request as urlReq\n",
    "import wget\n"
   ]
  },
  {
   "cell_type": "code",
   "execution_count": 47,
   "metadata": {
    "collapsed": false
   },
   "outputs": [],
   "source": [
    "def searchSome(query,number=50):\n",
    "    jsonFiles = []\n",
    "    firstQuery = min(number,100)\n",
    "    url = urlReq.urlopen(\"https://www.rijksmuseum.nl/api/en/collection/?ps=\"+str(firstQuery)+\"&q=Q&key=t2KR0CWi&format=json\".replace(\"Q\", query))\n",
    "    myCsv = jsonCSV(json.loads(url.read().decode()))\n",
    "    if(number>100): \n",
    "        number = number - 100\n",
    "        index = 2\n",
    "        while number > 0 :\n",
    "            firstQuery = min(number,100)\n",
    "            url = urlReq.urlopen(\"https://www.rijksmuseum.nl/api/en/collection/?p=\"+str(index)+\"&ps=\"\n",
    "                                 +str(firstQuery)+\"&q=Q&key=t2KR0CWi&format=json\".replace(\"Q\", query))\n",
    "            jsonFiles.append(jsonCSV(json.loads(url.read().decode())))\n",
    "            number = number - 100\n",
    "            index +=1\n",
    "        for csv in jsonFiles:\n",
    "            myCsv = pd.concat((myCsv,csv),ignore_index = True)\n",
    "            \n",
    "    return myCsv\n",
    "   \n",
    "def jsonCSV(file):\n",
    "    df = pd.DataFrame.from_dict(file['artObjects'])\n",
    "    return df\n",
    "def downloadImages(csv, directory):\n",
    "    for i in range(csv.shape[0]):\n",
    "        if(csv['webImage'][i] is not None):\n",
    "            wget.download(csv['webImage'][i]['url'],out=directory+\"/image\"+str(i)+\".jpg\")\n",
    "    "
   ]
  },
  {
   "cell_type": "code",
   "execution_count": 48,
   "metadata": {
    "collapsed": false,
    "scrolled": true
   },
   "outputs": [],
   "source": [
    "mCsv= searchSome('rembrandt',250)\n"
   ]
  },
  {
   "cell_type": "code",
   "execution_count": 49,
   "metadata": {
    "collapsed": false
   },
   "outputs": [
    {
     "name": "stdout",
     "output_type": "stream",
     "text": [
      "100% [..........................................................] 57939 / 57939"
     ]
    }
   ],
   "source": [
    "downloadImages(mCsv,\"../rembrandt\")\n"
   ]
  },
  {
   "cell_type": "code",
   "execution_count": null,
   "metadata": {
    "collapsed": false
   },
   "outputs": [],
   "source": []
  },
  {
   "cell_type": "code",
   "execution_count": null,
   "metadata": {
    "collapsed": false
   },
   "outputs": [],
   "source": []
  },
  {
   "cell_type": "code",
   "execution_count": null,
   "metadata": {
    "collapsed": true
   },
   "outputs": [],
   "source": []
  }
 ],
 "metadata": {
  "kernelspec": {
   "display_name": "Python 3",
   "language": "python",
   "name": "python3"
  }
 },
 "nbformat": 4,
 "nbformat_minor": 2
}
