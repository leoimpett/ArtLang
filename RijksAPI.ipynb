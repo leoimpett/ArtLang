{
 "cells": [
  {
   "cell_type": "code",
   "execution_count": 1,
   "metadata": {
    "collapsed": false
   },
   "outputs": [],
   "source": [
    "import numpy as np\n",
    "import matplotlib.pyplot as plt\n",
    "%matplotlib inline\n",
    "from tqdm import tqdm\n",
    "import json\n",
    "import csv\n",
    "import pandas as pd\n",
    "import urllib.request as urlReq\n",
    "import wget\n"
   ]
  },
  {
   "cell_type": "code",
   "execution_count": 2,
   "metadata": {
    "collapsed": false
   },
   "outputs": [],
   "source": [
    "def searchSome(query,number=100):\n",
    "    imagesPerPage = 100\n",
    "    jsonFiles = []\n",
    "    firstQuery = min(number,imagesPerPage)\n",
    "    url = urlReq.urlopen(\"https://www.rijksmuseum.nl/api/en/collection/?ps=\"+str(firstQuery)+\"&q=Q&key=t2KR0CWi&format=json\"\n",
    "                         .replace(\"Q\", query))\n",
    "    jsonfile = json.loads(url.read().decode())\n",
    "    myCsv = jsonCSV(jsonfile)\n",
    "    if(number>jsonfile['count']):\n",
    "        raise ValueError(\"Illegal Argument: maximum value for param number is \" + str(jsonfile['count']))\n",
    "    if(number>imagesPerPage): \n",
    "        number = number - imagesPerPage\n",
    "        index = 2\n",
    "        while number > 0 :\n",
    "            \n",
    "            url = urlReq.urlopen(\"https://www.rijksmuseum.nl/api/en/collection/?p=\"+str(index)+\"&ps=100&q=Q&key=t2KR0CWi&format=json\"\n",
    "                                 .replace(\"Q\", query))\n",
    "            if(min(number,imagesPerPage)!=imagesPerPage):\n",
    "                jsonFiles.append(jsonCSV(json.loads(url.read().decode()))[0:number])\n",
    "            else :\n",
    "                jsonFiles.append(jsonCSV(json.loads(url.read().decode())))                \n",
    "\n",
    "            number = number - imagesPerPage\n",
    "            index +=1\n",
    "        for csv in jsonFiles:\n",
    "            myCsv = pd.concat((myCsv,csv),ignore_index = True)\n",
    "            \n",
    "    return myCsv\n",
    "\n",
    "\n",
    "#Can take a long time for big ste of images\n",
    "def searchAll(query):\n",
    "    url = urlReq.urlopen(\"https://www.rijksmuseum.nl/api/en/collection/?q=Q&key=t2KR0CWi&format=json\"\n",
    "                         .replace(\"Q\", query))\n",
    "    jsonfile = json.loads(url.read().decode())\n",
    "    return searchSome(query,jsonfile['count'])\n",
    "    \n",
    "def jsonCSV(file):\n",
    "    df = pd.DataFrame.from_dict(file['artObjects'])\n",
    "    return df\n",
    "def downloadImages(csv, directory):\n",
    "    invalid = 0\n",
    "    for i in range(csv.shape[0]):\n",
    "        if(csv['webImage'][i] is not None):\n",
    "            wget.download(csv['webImage'][i]['url'],out=directory+\"/image\"+str(i)+\".jpg\")\n",
    "        else :\n",
    "            invalid += 1\n",
    "    return invalid\n",
    "            \n",
    "    "
   ]
  },
  {
   "cell_type": "code",
   "execution_count": 68,
   "metadata": {
    "collapsed": false
   },
   "outputs": [],
   "source": [
    "def getDatesFromCSV(csv):\n",
    "    idDate = {}\n",
    "    ids = csv[\"id\"]\n",
    "    for elem in ids:\n",
    "        elem = elem.upper()[3:]\n",
    "        url = urlReq.urlopen(\"https://www.rijksmuseum.nl/api/nl/collection/\"+elem+\"?key=t2KR0CWi&format=json\")\n",
    "        jsonfile = json.loads(url.read().decode())\n",
    "        idDate[elem] = jsonfile[\"artObject\"][\"dating\"]['sortingDate']\n",
    "    return idDate;\n",
    "    \n",
    "\n",
    "        "
   ]
  },
  {
   "cell_type": "code",
   "execution_count": 69,
   "metadata": {
    "collapsed": false,
    "scrolled": true
   },
   "outputs": [],
   "source": [
    "mCsv= searchSome('rembrandt',20)\n"
   ]
  },
  {
   "cell_type": "code",
   "execution_count": 71,
   "metadata": {
    "collapsed": false
   },
   "outputs": [],
   "source": [
    "dates = getDatesFromCSV(mCsv)"
   ]
  },
  {
   "cell_type": "code",
   "execution_count": null,
   "metadata": {
    "collapsed": false
   },
   "outputs": [],
   "source": []
  },
  {
   "cell_type": "code",
   "execution_count": null,
   "metadata": {
    "collapsed": true
   },
   "outputs": [],
   "source": []
  }
 ],
 "metadata": {
  "kernelspec": {
   "display_name": "Python 3",
   "language": "python",
   "name": "python3"
  },
  "language_info": {
   "codemirror_mode": {
    "name": "ipython",
    "version": 3
   },
   "file_extension": ".py",
   "mimetype": "text/x-python",
   "name": "python",
   "nbconvert_exporter": "python",
   "pygments_lexer": "ipython3",
   "version": "3.6.0"
  }
 },
 "nbformat": 4,
 "nbformat_minor": 2
}
