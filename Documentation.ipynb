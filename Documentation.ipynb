{
 "cells": [
  {
   "cell_type": "markdown",
   "metadata": {},
   "source": [
    "# User documentation\n",
    "\n",
    "\n",
    "## 1. Module imagedata\n",
    "\n",
    "### a. ImageData\n",
    "\n"
   ]
  },
  {
   "cell_type": "code",
   "execution_count": null,
   "metadata": {
    "collapsed": false
   },
   "outputs": [],
   "source": [
    "def add_data(name,value)"
   ]
  },
  {
   "cell_type": "markdown",
   "metadata": {},
   "source": [
    "Adds the data specified in arguments to the dictionary of the current ImageData.\n",
    "\n",
    "__Parameters__:\n",
    "> name: (string) the name of the data <br>\n",
    "> value: (any)   the value of the data"
   ]
  },
  {
   "cell_type": "code",
   "execution_count": null,
   "metadata": {
    "collapsed": true
   },
   "outputs": [],
   "source": [
    "def available_data()"
   ]
  },
  {
   "cell_type": "markdown",
   "metadata": {},
   "source": [
    "Returns the available data for this image\n",
    "\n",
    "__Returns__: \n",
    "> array of the data names"
   ]
  },
  {
   "cell_type": "code",
   "execution_count": null,
   "metadata": {
    "collapsed": true
   },
   "outputs": [],
   "source": [
    "def delete_data(name)"
   ]
  },
  {
   "cell_type": "markdown",
   "metadata": {},
   "source": [
    "Deletes a particular data from the dictionary \n",
    "\n",
    "__Parameters__:\n",
    "> name: (string) the name of the data to delete"
   ]
  },
  {
   "cell_type": "code",
   "execution_count": null,
   "metadata": {
    "collapsed": true
   },
   "outputs": [],
   "source": [
    "def plot_Image()"
   ]
  },
  {
   "cell_type": "markdown",
   "metadata": {},
   "source": [
    "Plot the original image in the notebook using matplotlib"
   ]
  },
  {
   "cell_type": "code",
   "execution_count": null,
   "metadata": {
    "collapsed": true
   },
   "outputs": [],
   "source": [
    "def plot_lowImage()"
   ]
  },
  {
   "cell_type": "markdown",
   "metadata": {},
   "source": [
    "Plot the low resolution image in the notebook using matplotlib"
   ]
  },
  {
   "cell_type": "markdown",
   "metadata": {},
   "source": [
    "#### Examples:"
   ]
  },
  {
   "cell_type": "code",
   "execution_count": null,
   "metadata": {
    "collapsed": true
   },
   "outputs": [],
   "source": [
    "my_image = imd.ImageData(image) #Create the ImageData\n",
    "my_image.add_data(\"hue\",0.5)    #Add the value 0.5 to the key hue\n",
    "my_image.delete(\"hue\")          #Delete the key value pair hue\n",
    "my_image.plot_Image()           #Plot the original resolution image"
   ]
  },
  {
   "cell_type": "markdown",
   "metadata": {},
   "source": [
    "### b. ImageDataCollection\n",
    "Support indexing, item assignement and deletion"
   ]
  },
  {
   "cell_type": "code",
   "execution_count": null,
   "metadata": {
    "collapsed": false
   },
   "outputs": [],
   "source": [
    "def from_array(imageArray, data(optional) = [])"
   ]
  },
  {
   "cell_type": "markdown",
   "metadata": {},
   "source": [
    "Class function, must be called on the class. ex: ImageDataCollection.from_array(images)\n",
    "Returns a ImageDataCollection composed of the images in imageArray, and the associated data dictionary\n",
    "\n",
    "__Parameters__: \n",
    ">imageArray: (arraylike of numpy arrays) the list of images to form the ImageDataCollection <br>\n",
    ">data: (optional, list of dictionaries) the list of dictionaries to be associted to the images.\n",
    "    \n",
    "__Returns__: \n",
    ">An ImageDataCollection with the ith image associated with the ith data dictionary"
   ]
  },
  {
   "cell_type": "code",
   "execution_count": null,
   "metadata": {
    "collapsed": true
   },
   "outputs": [],
   "source": [
    "def from_folder()"
   ]
  },
  {
   "cell_type": "markdown",
   "metadata": {},
   "source": [
    "Class function, must be called on the class. ex: ImageDataCollection.from_array() <br>\n",
    "Returns a ImageDataCollection composed of the images in the selected folder. Opens a dialogbox to select the folder\n",
    "\n",
    "__Returns__:\n",
    ">An ImageDaraCollection with the images in the folder, with each images having as data their file path."
   ]
  },
  {
   "cell_type": "code",
   "execution_count": null,
   "metadata": {
    "collapsed": true
   },
   "outputs": [],
   "source": [
    "def add(imagedata)"
   ]
  },
  {
   "cell_type": "markdown",
   "metadata": {},
   "source": [
    "Adds the given ImageData to the collection\n",
    "\n",
    "__Parameters__: \n",
    "> imagedata: (ImageData) the element to add to the collection\n",
    "\n",
    "__Raises:__ \n",
    "> ValueError: if the argument imagedata is not of type ImageData"
   ]
  },
  {
   "cell_type": "code",
   "execution_count": null,
   "metadata": {
    "collapsed": true
   },
   "outputs": [],
   "source": [
    "def delete(imagedata)"
   ]
  },
  {
   "cell_type": "markdown",
   "metadata": {},
   "source": [
    "Deletes the given ImageData from the collection\n",
    "\n",
    "__Parameters__: \n",
    "> imagedata: (ImageData) the element to delete"
   ]
  },
  {
   "cell_type": "code",
   "execution_count": null,
   "metadata": {
    "collapsed": true
   },
   "outputs": [],
   "source": [
    "def extract_lowRes()"
   ]
  },
  {
   "cell_type": "markdown",
   "metadata": {},
   "source": [
    "Returns all the original resolution images from the collection\n",
    "\n",
    "__Returns__:\n",
    "> list of numpy arrays, the images"
   ]
  },
  {
   "cell_type": "code",
   "execution_count": null,
   "metadata": {
    "collapsed": true
   },
   "outputs": [],
   "source": [
    "def extract_highRes()"
   ]
  },
  {
   "cell_type": "markdown",
   "metadata": {},
   "source": [
    "Returns all the low resolution (256x256) images from the collection\n",
    "\n",
    "__Returns:__\n",
    "> list of numpy arrays, the low resolution images"
   ]
  },
  {
   "cell_type": "code",
   "execution_count": null,
   "metadata": {
    "collapsed": true
   },
   "outputs": [],
   "source": [
    "def images_with_data(data)"
   ]
  },
  {
   "cell_type": "markdown",
   "metadata": {},
   "source": [
    "Returns the list of images that have this data in their data dictionary\n",
    "\n",
    "__Parameters__: \n",
    "> data: (string) the name of the data to search for\n",
    "\n",
    "__Returns__ :\n",
    "> list of ImageData, the elements from the collection having this data"
   ]
  },
  {
   "cell_type": "code",
   "execution_count": null,
   "metadata": {
    "collapsed": true
   },
   "outputs": [],
   "source": [
    "def data_from_csv()"
   ]
  },
  {
   "cell_type": "markdown",
   "metadata": {},
   "source": [
    "Opens a dialog box to select a CSV file. Read this CSV file and fill each ImageData dictionary with the values in the csv\n",
    "\n",
    "__Raises__:\n",
    "> ValueError: if the csv contains not the same amount of images than the ImageDataCollection"
   ]
  },
  {
   "cell_type": "code",
   "execution_count": null,
   "metadata": {
    "collapsed": true
   },
   "outputs": [],
   "source": [
    "def save_data_csv()"
   ]
  },
  {
   "cell_type": "markdown",
   "metadata": {},
   "source": [
    "Opens a dialog box to selct the folder where to save the data from each image into a csv file."
   ]
  },
  {
   "cell_type": "code",
   "execution_count": null,
   "metadata": {
    "collapsed": true
   },
   "outputs": [],
   "source": [
    "def get_data_for_all(name)"
   ]
  },
  {
   "cell_type": "markdown",
   "metadata": {},
   "source": [
    "Returns the list of values for the data name in all the images\n",
    "\n",
    "__Parameters__: \n",
    "> name: (string) the data name\n",
    "    \n",
    "__Returns__: \n",
    "> a list of values of the images for the data name"
   ]
  },
  {
   "cell_type": "code",
   "execution_count": null,
   "metadata": {
    "collapsed": true
   },
   "outputs": [],
   "source": [
    "def add_data_for_all(name,datas)"
   ]
  },
  {
   "cell_type": "markdown",
   "metadata": {},
   "source": [
    "Adds the list of values from datas to all the images. The ith image will have the ith value.\n",
    "\n",
    "__Parameters__: \n",
    "> name: (string) the data name\n",
    "> datas:(list) a list of values for the data name "
   ]
  },
  {
   "cell_type": "markdown",
   "metadata": {},
   "source": [
    "## 2. Module auto_cropping "
   ]
  },
  {
   "cell_type": "code",
   "execution_count": null,
   "metadata": {
    "collapsed": true
   },
   "outputs": [],
   "source": [
    "def auto_cropping(imagesData)"
   ]
  },
  {
   "cell_type": "markdown",
   "metadata": {},
   "source": [
    "Returns the cropped images\n",
    "\n",
    "__Parameters__: \n",
    "> imagesData :(ImageDataCollection) the collection to extract the images from\n",
    "    \n",
    "__Returns__: \n",
    "> a list of numpy arrays, the cropped images"
   ]
  },
  {
   "cell_type": "code",
   "execution_count": null,
   "metadata": {
    "collapsed": true
   },
   "outputs": [],
   "source": [
    "def entropy_list(myimages)"
   ]
  },
  {
   "cell_type": "markdown",
   "metadata": {},
   "source": [
    "Returns the entropiescomputed for each image\n",
    "\n",
    "__Parameters__: \n",
    "> myImages: (arraylike of numpy arrays) the list of images to compute the entropy from\n",
    "    \n",
    "__Returns__:\n",
    "> list of nympy arrays, the entropy images\n",
    "    "
   ]
  },
  {
   "cell_type": "markdown",
   "metadata": {},
   "source": [
    "## 3. Module seperate "
   ]
  },
  {
   "cell_type": "code",
   "execution_count": null,
   "metadata": {
    "collapsed": true
   },
   "outputs": [],
   "source": [
    "def separate_cards_images(imagesData)"
   ]
  },
  {
   "cell_type": "markdown",
   "metadata": {},
   "source": [
    "Separates the images from the photo library cards\n",
    "\n",
    "__Parameters__: \n",
    "> imagesData: (ImageDataCollection) the collection of images where to perform the speraration\n",
    "\n",
    "__Returns__ :\n",
    "> toCrop: list of numpy array, the images to crop\n",
    "> notoCrop:  list of numpy array, the images not to crop"
   ]
  },
  {
   "cell_type": "markdown",
   "metadata": {},
   "source": [
    "## 4. Module vizualize"
   ]
  },
  {
   "cell_type": "code",
   "execution_count": null,
   "metadata": {
    "collapsed": true
   },
   "outputs": [],
   "source": [
    "def plot_xy(xy,imagesData,show_notebook=True)"
   ]
  },
  {
   "cell_type": "markdown",
   "metadata": {},
   "source": [
    "Plotting function with cartesian coordinates. Mostly used for Hough and Hog coordinates. <br> To plot any two dimensions coordinates, see the two_dimensions_plot function.\n",
    "\n",
    "__Parameters__: \n",
    "> xy: (list of tuples) the x and y coordinates, the ith tuple is associated to the ith image\n",
    "> imagesData: (ImageDataCollectio) the collection to plot\n",
    "> show_notebook: (optional) show the plot in the notebook by default, if False opens a dialog box to save the plot in a jpeg "
   ]
  },
  {
   "cell_type": "code",
   "execution_count": null,
   "metadata": {
    "collapsed": true
   },
   "outputs": [],
   "source": [
    "def bokeh_plot(imagesData,datas,xy)"
   ]
  },
  {
   "cell_type": "markdown",
   "metadata": {},
   "source": [
    "Plotting function using Bokeh, with a hover tool displaying data in the plot.\n",
    "\n",
    "__Parameters__: \n",
    "> xy: (list of tuples) the x and y coordinates, the ith tuple is associated to the ith image <br>\n",
    "> imagesData: (ImageDataCollectio) the collection to plot <br>\n",
    "> datas: (list of data name) data to display in the plot with the hover tool"
   ]
  },
  {
   "cell_type": "code",
   "execution_count": null,
   "metadata": {
    "collapsed": true
   },
   "outputs": [],
   "source": [
    "def circle_plot(rt, imagesData,show_notebook=True)"
   ]
  },
  {
   "cell_type": "markdown",
   "metadata": {},
   "source": [
    "Plotting function with polar coordinates\n",
    "\n",
    "__Parameters__: \n",
    "> rt: (list of list) the radius and theta coordinates, the 1st list is the radiuses, the second one the thetas <br>\n",
    "imagesData: (ImageDataCollectio) the collection to plot <br>\n",
    "show_notebook: (optional) show the plot in the notebook by default, if False opens a dialog box to save the plot in a jpeg "
   ]
  },
  {
   "cell_type": "code",
   "execution_count": null,
   "metadata": {
    "collapsed": true
   },
   "outputs": [],
   "source": [
    "def two_dimensions_plot(xy,imagesData,show_notebook=True)"
   ]
  },
  {
   "cell_type": "markdown",
   "metadata": {},
   "source": [
    "PLotting function on two dimensions. \n",
    "\n",
    "__Parameters__: \n",
    "> xy: (list of list) the x and y coordinates, the 1st list is the x, the second one the y <br>\n",
    "imagesData: (ImageDataCollectio) the collection to plot <br>\n",
    "show_notebook: (optional) show the plot in the notebook by default, if False opens a dialog box to save the plot in a jpeg "
   ]
  },
  {
   "cell_type": "markdown",
   "metadata": {},
   "source": [
    "## 5. Module tsne_hog"
   ]
  },
  {
   "cell_type": "code",
   "execution_count": null,
   "metadata": {
    "collapsed": true
   },
   "outputs": [],
   "source": [
    "def my_hog(squaredImg)"
   ]
  },
  {
   "cell_type": "markdown",
   "metadata": {},
   "source": [
    "Compute the HOG images for the the list given in arguments\n",
    "\n",
    "__Parameters__: \n",
    "> squaredImg: (list of numpy arrays, ATTENTION: all images must be squared) the images \n",
    "\n",
    "__Returns__:\n",
    "> a list of numpy arrays, the HOG images"
   ]
  },
  {
   "cell_type": "code",
   "execution_count": null,
   "metadata": {
    "collapsed": true
   },
   "outputs": [],
   "source": [
    "def hog_tsne(imagesData)"
   ]
  },
  {
   "cell_type": "markdown",
   "metadata": {},
   "source": [
    "Compute the PCA-TSNE coordinates for the hog tranform. Used to plot similar images close to each others.\n",
    "\n",
    "__Parameters__: \n",
    "> imagesData: (ImageDataCollection) the collection of images to compute from\n",
    " \n",
    "__Returns__:\n",
    "> list of tuples, the x and y coordinates in the hog embedded space. the first tuple is associated to the first image"
   ]
  },
  {
   "cell_type": "markdown",
   "metadata": {},
   "source": [
    "## 6. Module hough"
   ]
  },
  {
   "cell_type": "code",
   "execution_count": null,
   "metadata": {
    "collapsed": true
   },
   "outputs": [],
   "source": [
    "def hough_transform(imagesData)"
   ]
  },
  {
   "cell_type": "markdown",
   "metadata": {},
   "source": [
    "Compute the houghn transform for the images in the list given in arguments\n",
    "\n",
    "__Parameters__: \n",
    "> imagesData: (ImageDataCollection) the images \n",
    "\n",
    "__Returns__:\n",
    "> a list of numpy arrays, the hough transforms"
   ]
  },
  {
   "cell_type": "code",
   "execution_count": null,
   "metadata": {
    "collapsed": true
   },
   "outputs": [],
   "source": [
    "def hough_tsne(imagesData)"
   ]
  },
  {
   "cell_type": "markdown",
   "metadata": {},
   "source": [
    "Compute the PCA-TSNE coordinates for the hough tranform. Used to plot similar images close to each others.\n",
    "\n",
    "__Parameters__: \n",
    "> imagesData: (ImageDataCollection) the collection of images to compute from\n",
    "    \n",
    "__Returns__:\n",
    "> list of tuples, the x and y coordinates in the hough embedded space. the first tuple is associated to the first image"
   ]
  },
  {
   "cell_type": "markdown",
   "metadata": {},
   "source": [
    "## 7. Module sorting"
   ]
  },
  {
   "cell_type": "code",
   "execution_count": null,
   "metadata": {
    "collapsed": true
   },
   "outputs": [],
   "source": [
    "def sortBy(imageData,sortingParam)"
   ]
  },
  {
   "cell_type": "markdown",
   "metadata": {},
   "source": [
    "Sort the collection of images by the given parameter. This parameter can either be hue,sat,val or any data nem present in the data dictionary for all the images. If hue, val or sat is given, the function will compute these values itself. \n",
    "\n",
    "__Parameters__:\n",
    "> imagesData: (ImageDataCollection) the collection of images to sort <br>\n",
    "sortingParam: (string) the parameter to sort the image with respect to\n",
    "\n",
    "__Returns__:\n",
    "> a list of numpy arrays sorted by the parameter"
   ]
  },
  {
   "cell_type": "markdown",
   "metadata": {},
   "source": [
    "## 8. Module color"
   ]
  },
  {
   "cell_type": "code",
   "execution_count": null,
   "metadata": {
    "collapsed": true
   },
   "outputs": [],
   "source": [
    "def compute_principal_colors(imageData,k)"
   ]
  },
  {
   "cell_type": "markdown",
   "metadata": {},
   "source": [
    "Compute the k principal colors of each image in the collection\n",
    "\n",
    "__Parameters__: \n",
    "> imagesData: (ImageDataCollection) the collection of images to analyse <br> \n",
    "k: (integer) the number of principal colors to find\n",
    "\n",
    "__Returns__:\n",
    "> list of tuples, the hue value of the k principla color for each images. the ith tuple is associated with the ith image"
   ]
  },
  {
   "cell_type": "markdown",
   "metadata": {},
   "source": [
    "## 9. Module rijks_api"
   ]
  },
  {
   "cell_type": "code",
   "execution_count": null,
   "metadata": {
    "collapsed": true
   },
   "outputs": [],
   "source": [
    "def searchSome(query,number=100)"
   ]
  },
  {
   "cell_type": "markdown",
   "metadata": {},
   "source": [
    "Search in the Rijksmuseum online archive a given number of images for the search word query\n",
    "\n",
    "__Parameters__: \n",
    "> query: (string) the search word (ex: monet,rembrandt...) <br>\n",
    "number: (string, optional) the number of images to retrieve\n",
    "    \n",
    "__Returns__:\n",
    "> a csv file with the weblink to images \n",
    "    \n",
    "__Raises__:\n",
    "> ValueError: if the parameter number is bigger than the number of images available for this query. Will print the maximum number possible for this query"
   ]
  },
  {
   "cell_type": "code",
   "execution_count": null,
   "metadata": {
    "collapsed": true
   },
   "outputs": [],
   "source": [
    "def searchAll(query)"
   ]
  },
  {
   "cell_type": "markdown",
   "metadata": {},
   "source": [
    "Search in the Rijksmuseum online archive all the images for the search word query <br>\n",
    "ATTENTION: this function can take a lot of time if a lot of images are available\n",
    "\n",
    "__Parameters__: \n",
    "> query: (string) the search word (ex: monet,rembrandt...) <br>\n",
    "number: (string, optional) the number of images to retrieve\n",
    "    \n",
    "__Returns__:\n",
    "> a csv file with the weblink to images "
   ]
  },
  {
   "cell_type": "code",
   "execution_count": null,
   "metadata": {
    "collapsed": true
   },
   "outputs": [],
   "source": [
    "def downloadImages(csv)"
   ]
  },
  {
   "cell_type": "markdown",
   "metadata": {},
   "source": [
    "Download all the images from the links in the csv\n",
    "\n",
    "__Parameters__: \n",
    "> csv: (DataFrame) the csv to download from\n",
    "    \n",
    "__Returns__:\n",
    "> integer, the number of images that could not be downloaded"
   ]
  },
  {
   "cell_type": "code",
   "execution_count": null,
   "metadata": {
    "collapsed": true
   },
   "outputs": [],
   "source": [
    "def getDatesFromCSV(csv):"
   ]
  },
  {
   "cell_type": "markdown",
   "metadata": {},
   "source": [
    "Retrieve the publishing dates for the art objects in the csv\n",
    "\n",
    "__Parameters__: \n",
    "> csv: (DataFrame) the csv to analyse\n",
    "    \n",
    "__Returns__:\n",
    "> a dictionary of key value, the key being the id of the image and the value its date \n",
    "    "
   ]
  },
  {
   "cell_type": "code",
   "execution_count": null,
   "metadata": {
    "collapsed": true
   },
   "outputs": [],
   "source": []
  }
 ],
 "metadata": {
  "kernelspec": {
   "display_name": "Python 3",
   "language": "python",
   "name": "python3"
  },
  "language_info": {
   "codemirror_mode": {
    "name": "ipython",
    "version": 3
   },
   "file_extension": ".py",
   "mimetype": "text/x-python",
   "name": "python",
   "nbconvert_exporter": "python",
   "pygments_lexer": "ipython3",
   "version": "3.6.0"
  }
 },
 "nbformat": 4,
 "nbformat_minor": 2
}
